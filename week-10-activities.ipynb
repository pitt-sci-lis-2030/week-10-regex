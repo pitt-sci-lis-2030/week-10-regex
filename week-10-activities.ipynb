{
 "cells": [
  {
   "cell_type": "markdown",
   "metadata": {},
   "source": [
    "# Regular Expressions\n",
    "\n",
    "Regular expressions or regex have a reputation amongst programmers as being very difficult and parsnickety. \n",
    "\n",
    "> \"Some people, when confronted with a problem, think 'I know, I'll use\n",
    "regular expressions.' Now they have two problems.\"\n",
    "\n",
    "Don't let this intimidate you! Everyone gets frustrated with regex.\n",
    "\n",
    "Let's try and do some things with regular expressions in Python.\n"
   ]
  },
  {
   "cell_type": "code",
   "execution_count": null,
   "metadata": {},
   "outputs": [],
   "source": [
    "# load the regular expressions module.\n",
    "import re"
   ]
  },
  {
   "cell_type": "markdown",
   "metadata": {},
   "source": [
    "## The Queen's English\n",
    "\n",
    "Some words are spelt differently in the UK vs. US. Let's try and craft a few regular expressions so that we can match these variations. Here is a \n",
    "\n",
    "![British vs. American spellings](https://i.redd.it/8pexf4d1fax21.jpg)"
   ]
  },
  {
   "cell_type": "markdown",
   "metadata": {},
   "source": [
    "The square brackets mean match any one of the characters insideo the brackets.\n",
    "\n",
    "Match a \"t\" then either \"y\" or \"i\" then \"re\"."
   ]
  },
  {
   "cell_type": "code",
   "execution_count": null,
   "metadata": {},
   "outputs": [],
   "source": [
    "regex = \"t[yi]re\"\n",
    "print(re.findall(regex, \"tyre\"))\n",
    "print(re.findall(regex, \"tire\"))\n",
    "print(re.findall(regex, \"wheel\"))"
   ]
  },
  {
   "cell_type": "markdown",
   "metadata": {},
   "source": [
    "Let's see if we can match both \"while\" and \"whilst\"\n",
    "\n",
    "The special characet `?` means, match 0 or 1 of the previous character. It doesn't match a question mark.\n",
    "\n",
    "Match \"whil\" and then either \"s\" or \"e\" and then zero or one \"t\"."
   ]
  },
  {
   "cell_type": "code",
   "execution_count": null,
   "metadata": {},
   "outputs": [],
   "source": [
    "regex = \"whil[se][t]?\"\n",
    "print(re.findall(regex, \"whilst\"))\n",
    "print(re.findall(regex, \"while\"))\n",
    "print(re.findall(regex, \"meantime\"))      "
   ]
  },
  {
   "cell_type": "markdown",
   "metadata": {},
   "source": [
    "Ok, now let's try something more complicated like \"bogeyman\" and \"boogeyman.\"\n",
    "\n",
    "We need to use the curly braces `{}` or *quantifier* to specifiy how \n",
    "\n",
    "Match \"b\" then one or two \"o\" then \"geyman\""
   ]
  },
  {
   "cell_type": "code",
   "execution_count": null,
   "metadata": {},
   "outputs": [],
   "source": [
    "regex = \"bo{1,2}geyman\"\n",
    "print(re.findall(regex, \"bogeyman\"))\n",
    "print(re.findall(regex, \"boogeyman\"))\n",
    "print(re.findall(regex, \"booooooogeyman\"))\n",
    "      "
   ]
  },
  {
   "cell_type": "markdown",
   "metadata": {},
   "source": [
    "Why don't you try crafting some regular expressions to match British and American spellings. Here is some sample code for you to work with:\n",
    "\n",
    "```python\n",
    "regex = \"???\"\n",
    "print(re.findall(regex, \"???\"))\n",
    "print(re.findall(regex, \"???\"))\n",
    "print(re.findall(regex, \"???\"))\n",
    "```"
   ]
  },
  {
   "cell_type": "code",
   "execution_count": null,
   "metadata": {},
   "outputs": [],
   "source": [
    "# try your own here\n"
   ]
  },
  {
   "cell_type": "markdown",
   "metadata": {},
   "source": [
    "## Rhyming\n",
    "\n",
    "```\n",
    "There was an Old Man with a beard\n",
    "Who said, 'It is just as I feared\n",
    "Two Owls and a Hen\n",
    "Four Larks and a Wren\n",
    "```\n",
    "\n",
    "So this is an AABBA peom, which means we need to create a regex that matches words that rhyme with \"beard.\" We could make a regex that matches all the words, but it might be easier to find a pattern."
   ]
  },
  {
   "cell_type": "code",
   "execution_count": null,
   "metadata": {},
   "outputs": [],
   "source": [
    "regex = \"ed|eard\""
   ]
  },
  {
   "cell_type": "code",
   "execution_count": null,
   "metadata": {},
   "outputs": [],
   "source": [
    "last_line = \"Have all built their nests in my TREE\"\n",
    "re.findall(regex, last_line)"
   ]
  },
  {
   "cell_type": "markdown",
   "metadata": {},
   "source": [
    "Empty list, which means no match, which means no rhyme "
   ]
  },
  {
   "cell_type": "code",
   "execution_count": null,
   "metadata": {},
   "outputs": [],
   "source": [
    "last_line = \"Have all built their nests in my beard\"\n",
    "re.findall(regex, last_line)"
   ]
  },
  {
   "cell_type": "code",
   "execution_count": null,
   "metadata": {},
   "outputs": [],
   "source": [
    "last_line = \"Have all built their beds in my HAT\"\n",
    "re.findall(regex, last_line)"
   ]
  },
  {
   "cell_type": "markdown",
   "metadata": {},
   "source": [
    "Oh dear, this line does not rhyme.  \n",
    "Our regex is broken.  \n",
    "Some of the time.  \n",
    "We can use a special token.  \n",
    "To match the end of the line."
   ]
  },
  {
   "cell_type": "code",
   "execution_count": null,
   "metadata": {},
   "outputs": [],
   "source": [
    "regex = \"ed$|eard$\"\n",
    "last_line = \"Have all built their beds in my HAT\"\n",
    "re.findall(regex, last_line)"
   ]
  },
  {
   "cell_type": "markdown",
   "metadata": {},
   "source": [
    "Using the `$` we are saying match a string that ends in \"ed\" or a string that ends in \"eard\""
   ]
  },
  {
   "cell_type": "markdown",
   "metadata": {},
   "source": [
    "## Matching the News\n",
    "Extract proper names from a [news article](https://text.npr.org/979155522)"
   ]
  },
  {
   "cell_type": "code",
   "execution_count": null,
   "metadata": {},
   "outputs": [],
   "source": [
    "text = \"\"\"When electric pickup maker Lordstown Motors \n",
    "took over an old General Motors plant in Ohio in 2019, \n",
    "it had big ambitions — and made a lot of promises. \n",
    "It promised a revival for a community agonizingly \n",
    "familiar with lost jobs. It named itself after the town, \n",
    "Lordstown, and named its future truck the Endurance, after \n",
    "the region's enduring residents. And it promised a fast \n",
    "timeline. Lordstown aimed to bring the first mass-produced \n",
    "electric pickup truck to market, built right there in \n",
    "that old GM plant.\"\"\"\n",
    "text"
   ]
  },
  {
   "cell_type": "markdown",
   "metadata": {},
   "source": [
    "Create a regex that matches one capital letter (`[A-Z]`) then zero or more lowercase letters (`[a-z]`). The `*` stands for \"match zero or more of the previous character.\""
   ]
  },
  {
   "cell_type": "code",
   "execution_count": null,
   "metadata": {},
   "outputs": [],
   "source": [
    "regex = \"[A-Z][a-z]*\"\n",
    "re.findall(regex,text)"
   ]
  },
  {
   "cell_type": "code",
   "execution_count": null,
   "metadata": {},
   "outputs": [],
   "source": []
  },
  {
   "cell_type": "code",
   "execution_count": null,
   "metadata": {},
   "outputs": [],
   "source": [
    "regex = \"[A-Z][a-z]+\"\n",
    "re.findall(regex,text)"
   ]
  },
  {
   "cell_type": "markdown",
   "metadata": {},
   "source": [
    "So why isn't this matching \"Motors\"?\n",
    "Let's look at our [handy web tool](https://pythex.org/?regex=%5B%5E.%5D%5B%5Cs%5D%5BA-Z%5D%5Ba-z%5D%2B&test_string=When%20electric%20pickup%20maker%20Lordstown%20Motors%20took%20over%20an%20old%20General%20Motors%20plant%20in%20Ohio%20in%202019%2C%20it%20had%20big%20ambitions%20—%20and%20made%20a%20lot%20of%20promises.%5CnIt%20promised%20a%20revival%20for%20a%20community%20agonizingly%20familiar%20with%20lost%20jobs.%20It%20named%20itself%20after%20the%20town%2C%20Lordstown%2C%20and%20named%20its%20future%20truck%20the%20Endurance%2C%20after%20the%20region%27s%20enduring%20residents.%5CnAnd%20it%20promised%20a%20fast%20timeline.%20Lordstown%20aimed%20to%20bring%20the%20first%20mass-produced%20electric%20pickup%20truck%20to%20market%2C%20built%20right%20there%20in%20that%20old%20GM%20plant.&ignorecase=0&multiline=0&dotall=0&verbose=0) to test regular expressions."
   ]
  },
  {
   "cell_type": "code",
   "execution_count": null,
   "metadata": {},
   "outputs": [],
   "source": [
    "regex = \"[A-Z][a-z]{3,}\"\n",
    "re.findall(regex,text)"
   ]
  },
  {
   "cell_type": "markdown",
   "metadata": {},
   "source": [
    "Close enough!"
   ]
  },
  {
   "cell_type": "markdown",
   "metadata": {},
   "source": [
    "## Passwords\n",
    "\n",
    "You know those annoying password checkers that verify you have a sufficiently strong password. \n",
    "\n",
    "Let's create a regular expression that makes sure the string is at least 8 characters and *can* be made up of capital letters (`A-Z`), lowercase letters (`a-z`), digits (`0-9`), and either an exclaimation point (`!`) or dollar sign(`$`)."
   ]
  },
  {
   "cell_type": "code",
   "execution_count": null,
   "metadata": {},
   "outputs": [],
   "source": []
  },
  {
   "cell_type": "code",
   "execution_count": null,
   "metadata": {},
   "outputs": [],
   "source": [
    "password = \"L1br4r14nsRule!\"\n",
    "\n",
    "regex = \"[A-Za-z0-9!$]{8,}\""
   ]
  },
  {
   "cell_type": "code",
   "execution_count": null,
   "metadata": {},
   "outputs": [],
   "source": [
    "if re.fullmatch(regex,password):\n",
    "    print(\"strong\")\n",
    "else:\n",
    "    print(\"weak\")"
   ]
  },
  {
   "cell_type": "markdown",
   "metadata": {},
   "source": [
    "Note, this is not the greatest password checker because it doesn't require all of those special characters."
   ]
  },
  {
   "cell_type": "markdown",
   "metadata": {},
   "source": [
    "## Parsing files"
   ]
  },
  {
   "cell_type": "markdown",
   "metadata": {},
   "source": [
    "From the files `hamlet.txt` write a regular expression that gathers a list of names of all the speaking characters"
   ]
  },
  {
   "cell_type": "code",
   "execution_count": null,
   "metadata": {},
   "outputs": [],
   "source": [
    "# open the file and read it into memory\n",
    "with open(\"files/hamlet.txt\", \"r\") as fh:\n",
    "    hamlet_text = fh.read()\n",
    "\n",
    "# print the first 1000 characters so it is pretty\n",
    "print(hamlet_text[0:1000])"
   ]
  },
  {
   "cell_type": "markdown",
   "metadata": {},
   "source": [
    "The output above shows the speaking parts are capital names on their own lines."
   ]
  },
  {
   "cell_type": "code",
   "execution_count": null,
   "metadata": {},
   "outputs": [],
   "source": [
    "# craft a regex to match capital letters\n",
    "regex = \"[A-Z]\"\n",
    "\n",
    "# loop through the first 50 lines to test teh regex\n",
    "for line in hamlet_text.split(\"\\n\")[0:50]:\n",
    "    character_name = re.findall(regex, line)\n",
    "    if character_name:\n",
    "        print(character_name)"
   ]
  },
  {
   "cell_type": "markdown",
   "metadata": {},
   "source": [
    "Yikes, that appears to match every capital letter. But only one letter, we want more letter. "
   ]
  },
  {
   "cell_type": "code",
   "execution_count": null,
   "metadata": {},
   "outputs": [],
   "source": [
    "# craft a regex that matches 0 or more capital letters\n",
    "regex = \"[A-Z]*\"\n",
    "\n",
    "for line in hamlet_text.split(\"\\n\")[0:50]:\n",
    "    character_name = re.findall(regex, line)\n",
    "    if character_name:\n",
    "        print(character_name)"
   ]
  },
  {
   "cell_type": "markdown",
   "metadata": {},
   "source": [
    "What is happening it is appears the regex is matching blank lines too. This is because of `*`. Remember the `*` means \"match 0 or more of the preceding letter\" so when we write `[A-Z]*` we are saying \"match 0 or more letters between capital A and capital Z.\" An empty space technically matches that pattern."
   ]
  },
  {
   "cell_type": "code",
   "execution_count": null,
   "metadata": {},
   "outputs": [],
   "source": [
    "# match 1 or more capital letters\n",
    "regex = \"[A-Z]+\"\n",
    "\n",
    "for line in hamlet_text.split(\"\\n\")[0:50]:\n",
    "    character_name = re.findall(regex, line)\n",
    "    if character_name:\n",
    "        print(character_name)"
   ]
  },
  {
   "cell_type": "markdown",
   "metadata": {},
   "source": [
    "Making headway, but we need to not match these individual letters. Let's just match lines that start and end with 1 or more capital letters and contain no other letters."
   ]
  },
  {
   "cell_type": "code",
   "execution_count": null,
   "metadata": {},
   "outputs": [],
   "source": [
    "# match 1 or more capital letters that start and end a string\n",
    "regex = \"^[A-Z]+$\"\n",
    "\n",
    "for line in hamlet_text.split(\"\\n\")[0:50]:\n",
    "    character_name = re.findall(regex, line)\n",
    "    if character_name:\n",
    "        print(character_name)"
   ]
  },
  {
   "cell_type": "code",
   "execution_count": null,
   "metadata": {},
   "outputs": [],
   "source": [
    "character_list = []\n",
    "\n",
    "regex = \"^[A-Z]+$\"\n",
    "\n",
    "for line in hamlet_text.split(\"\\n\")[0:50]:\n",
    "    \n",
    "    character_name = re.findall(regex, line)\n",
    "    \n",
    "    if character_name and (character_name[0] not in character_list):\n",
    "        character_list.append(character_name[0])\n",
    "        \n",
    "print(character_list)"
   ]
  },
  {
   "cell_type": "markdown",
   "metadata": {},
   "source": [
    "Wait, why only 4?! That is because we are only looping over the first 50 lines (see the slice `[0:50]` in the loop after the `split(\"\\n\")`. We can remove that now that we are done testing."
   ]
  },
  {
   "cell_type": "code",
   "execution_count": null,
   "metadata": {},
   "outputs": [],
   "source": [
    "# create a list to hold the characters\n",
    "character_list = []\n",
    "\n",
    "# regex that matches speaking lines\n",
    "regex = \"^[A-Z]+$\"\n",
    "\n",
    "# loop over every line in the play\n",
    "for line in hamlet_text.split(\"\\n\"):\n",
    "    \n",
    "    # match the character name\n",
    "    character_name = re.findall(regex, line)\n",
    "    \n",
    "    # if the line contains a character name AND we haven't seen that name\n",
    "    if character_name and (character_name[0] not in character_list):\n",
    "        # add new character to our list\n",
    "        character_list.append(character_name[0])\n",
    "\n",
    "# print out our list of characters\n",
    "print(character_list)"
   ]
  },
  {
   "cell_type": "markdown",
   "metadata": {},
   "source": [
    "Cool! We just used regular expressions to create a list of speaking parts in Hamlet."
   ]
  },
  {
   "cell_type": "markdown",
   "metadata": {},
   "source": [
    "##  Regex Groups - Finding Birthdays\n",
    "\n",
    "We have a paragraph of text and what we want to do is extract from this blob of text"
   ]
  },
  {
   "cell_type": "code",
   "execution_count": null,
   "metadata": {},
   "outputs": [],
   "source": [
    "text = \"\"\"Bob has a birthday on 06-20-1946, but Kevin\n",
    "is much younger with a birthday on 01-01-1968. Abe\n",
    "was born a long time ago in on 02-12-1809, but\n",
    "he isn't as old as George who was also born in \n",
    "February, but on 02-22-1732. Alf, a smart-mouthed \n",
    "alien was born on 09-22-1986, but we're not sure \n",
    "if that is the correct birthday. Also, don't \n",
    "consuse Alf with Howard, who as born on 08-01-1986\n",
    "and is a duck.\"\"\""
   ]
  },
  {
   "cell_type": "code",
   "execution_count": null,
   "metadata": {},
   "outputs": [],
   "source": [
    "# match two digits, a single dash, two digits, a single dash, and then four digits\n",
    "regex = \"\\d{2}-\\d{2}-\\d{4}\""
   ]
  },
  {
   "cell_type": "code",
   "execution_count": null,
   "metadata": {},
   "outputs": [],
   "source": [
    "# find all the matching strings in our blob of text\n",
    "birthdays = re.findall(regex, text)\n",
    "birthdays"
   ]
  },
  {
   "cell_type": "markdown",
   "metadata": {},
   "source": [
    "So this gives us each of the birthdays as onestring. We can use the power of groups to identify the separate matching components of our regular expession. If we put *parentheses* around the sections of the regular expression we want to extract as separate *matching groups*."
   ]
  },
  {
   "cell_type": "code",
   "execution_count": null,
   "metadata": {},
   "outputs": [],
   "source": [
    "# add parentheses around the parts we want to extract\n",
    "regex = \"(\\d{2})-(\\d{2})-(\\d{4})\"\n",
    "# search the string for matches\n",
    "birthdays = re.findall(regex, text)\n",
    "birthdays"
   ]
  },
  {
   "cell_type": "code",
   "execution_count": null,
   "metadata": {},
   "outputs": [],
   "source": [
    "# loop over our list of lists and print each part\n",
    "for birthday in birthdays:\n",
    "    print(\"Month:\", birthday[0])\n",
    "    print(\"Day:\", birthday[1])\n",
    "    print(\"Year:\", birthday[2])\n",
    "    print()"
   ]
  },
  {
   "cell_type": "markdown",
   "metadata": {},
   "source": []
  }
 ],
 "metadata": {
  "kernelspec": {
   "display_name": "Python 3",
   "language": "python",
   "name": "python3"
  },
  "language_info": {
   "codemirror_mode": {
    "name": "ipython",
    "version": 3
   },
   "file_extension": ".py",
   "mimetype": "text/x-python",
   "name": "python",
   "nbconvert_exporter": "python",
   "pygments_lexer": "ipython3",
   "version": "3.8.5"
  }
 },
 "nbformat": 4,
 "nbformat_minor": 4
}
