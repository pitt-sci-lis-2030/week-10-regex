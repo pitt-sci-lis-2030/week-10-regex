{
 "cells": [
  {
   "cell_type": "markdown",
   "metadata": {},
   "source": [
    "### Week 10 exercises"
   ]
  },
  {
   "cell_type": "markdown",
   "metadata": {},
   "source": [
    "This week's lecture covered \"regular expressions\", a mini-language for matching and extracting data from strings. Follow the steps provided for each question and develop code using regular expressions to complete the tasks. Remember to **refer to the readings for week 10** and the other resources provided to help navigate the questions. "
   ]
  },
  {
   "cell_type": "markdown",
   "metadata": {},
   "source": [
    "**Q1**. Write a Python program that uses regular expressions to extract the year, month, and day from the following URL: `https://www.washingtonpost.com/sports/2021/03/20/ncaa-march-madness-live-updates-scores-highlights/` \n",
    "\n",
    "Complete the follwing steps in the cell provided below:\n",
    "\n",
    "1. Import regular expression module\n",
    "2. Create a variable containing the URL as a string\n",
    "3. Craft your regular expression that can extract the year, month, and day from a URL string\n",
    "4. Identify the appropriate function from the regular expression module to extract the data into a variable\n",
    "5. Print out the contents of the variable\n",
    "\n",
    "Your output should looks like:\n",
    "\n",
    "```\n",
    "[('2021', '03', '20')]\n",
    "```\n"
   ]
  },
  {
   "cell_type": "code",
   "execution_count": 2,
   "metadata": {},
   "outputs": [],
   "source": [
    "# insert your code here\n"
   ]
  },
  {
   "cell_type": "markdown",
   "metadata": {},
   "source": [
    "**Q2**. Define a **function** that uses regular expressions to check if a string only contains lowercase letters, numbers, and underscores). The function should print \"Found a match!\" or \"Not matched\" depending on if the regular expression matches the input string. Using the strings `lis2030_exercises_1` and `LIS 2030 Exercises` test to see if your function is operating properly.\n",
    "\n",
    "Complete the follwing steps in the cell provided below:\n",
    "1. Define a function called \"string_checker\" with a paremeter called \"text\"\n",
    "1. Craft a regular expression that only matches the criteria described above\n",
    "4. Identify the appropriate function from the regular expression module to test if the input string matches\n",
    "3. Print if the string matches or not\n",
    "2. Test your function with the strings `lis2030_exercises_1` and `LIS 2030 Exercises`\n"
   ]
  },
  {
   "cell_type": "code",
   "execution_count": 5,
   "metadata": {},
   "outputs": [],
   "source": [
    "#insert your code here\n"
   ]
  },
  {
   "cell_type": "markdown",
   "metadata": {},
   "source": [
    "**Q3**. Write a Python program to find all the email addresses in the following string:\n",
    "`please feel free to contact us at: biehl@pitt.edu, mcburton@pitt.edu, ZFP@pitt.edu, FAX2@pitt.edu, NIZ19@pitt.edu` Your program should print out each email addresses and normalize the addresses to be all lowercase letters.\n",
    "\n",
    "Complete the following steps in the cell provided below:\n",
    "\n",
    "1. Create a variable with the text string\n",
    "2. Craft a regular expression to extract what you wish to \"find\" within the text\n",
    "3. Use the appropriate function from the regular expression module to extract the emails into a variable\n",
    "3. Display your output by looping and printing each extracted email address\n",
    "    * Don't forget to normalize into lowercase!\n",
    "\n",
    "The output should look like\n",
    "```\n",
    "biehl@pitt.edu\n",
    "mcburton@pitt.edu\n",
    "zfp@pitt.edu\n",
    "fax2@pitt.edu\n",
    "niz19@pitt.edu\n",
    "```"
   ]
  },
  {
   "cell_type": "code",
   "execution_count": 7,
   "metadata": {},
   "outputs": [],
   "source": [
    "# insert your code here\n"
   ]
  },
  {
   "cell_type": "code",
   "execution_count": null,
   "metadata": {},
   "outputs": [],
   "source": []
  }
 ],
 "metadata": {
  "kernelspec": {
   "display_name": "Python 3",
   "language": "python",
   "name": "python3"
  },
  "language_info": {
   "codemirror_mode": {
    "name": "ipython",
    "version": 3
   },
   "file_extension": ".py",
   "mimetype": "text/x-python",
   "name": "python",
   "nbconvert_exporter": "python",
   "pygments_lexer": "ipython3",
   "version": "3.8.5"
  }
 },
 "nbformat": 4,
 "nbformat_minor": 4
}
