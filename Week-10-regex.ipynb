{
 "cells": [
  {
   "cell_type": "markdown",
   "metadata": {},
   "source": [
    "# Regular Expressions"
   ]
  },
  {
   "cell_type": "markdown",
   "metadata": {},
   "source": [
    "Some of the content and examples in this notebook come from:\n",
    "\n",
    "\n",
    "  Fitzgerald, Michael., Simon. St. Laurent, and Rebecca. Demarest. [*Introducing Regular Expressions*](https://pitt.primo.exlibrisgroup.com/permalink/01PITT_INST/e8h8hp/alma9998559306606236). First edition. Sebastopol, CA: O’Reilly, 2012. \n",
    "  \n",
    "  Nancy McCracken, Syracuse University. Course Resources.\n"
   ]
  },
  {
   "cell_type": "markdown",
   "metadata": {},
   "source": [
    "## What is a regular expression?\n",
    "\n",
    "Regular expressions are specially encoded text strings used as patterns for matching sets of strings.  It is essentially, a very small, highly specialized programming syntax for specifying the rules for any set of possible strings you want to match.\n",
    "\n",
    "\n",
    "They began to emerge in the 1940s as a way to describe regular languages, but they really began to show up in the programming world during the 1970s. The first place I could find them showing up was in the QED text editor written by Ken Thompson.\n",
    "\n",
    "RegEx is simply asking \"Does this string match the pattern?\", or \"Is there a match for the pattern anywhere in this string?\"\n",
    "\n",
    "Interesting note: regular expressions can also be used as a language generator; regular expression languages are the first in the [Chomsky hierarchy](https://en.wikipedia.org/wiki/Chomsky_hierarchy).\n",
    "\n"
   ]
  },
  {
   "cell_type": "markdown",
   "metadata": {},
   "source": [
    "## Why are regular expressions useful?\n",
    "\n",
    "- Recognizing all email addresses \n",
    "- Recognizing URLs\n",
    "- Recognizing *any language the follows a pattern*"
   ]
  },
  {
   "cell_type": "markdown",
   "metadata": {},
   "source": [
    "## What is a regular language?\n",
    "\n",
    "From language theory (see above), a regular language is a language that can be recognized by Finite State Automata.\n",
    " - Has a finite number of states.\n",
    " - Can be represented by directed graphs or transition tables.\n",
    " - Are exactly the set of languages recognized by finite automata."
   ]
  },
  {
   "cell_type": "markdown",
   "metadata": {},
   "source": [
    "## Regular expression for matching\n",
    "\n",
    "- [abc] = a|b|c\n",
    "- [b-e] = b|c|d|e\n",
    "- [^b-e] = *complement* of b|c|d|e\n",
    "- . = wildcard for a one, and **JUST** one character\n",
    "- \\* = wilcard for zero or more characters\n",
    "- ? = wilcard for zero or **ONE** character\n",
    "- \\+ = wilcard one or more characters\n",
    "- {n} = exact number of repeats"
   ]
  },
  {
   "cell_type": "code",
   "execution_count": null,
   "metadata": {},
   "outputs": [],
   "source": [
    "import re"
   ]
  },
  {
   "cell_type": "code",
   "execution_count": null,
   "metadata": {},
   "outputs": [],
   "source": [
    "re.search(\"[IDC]\", \"LIS 2030 is offered by the Department of Information Culture and Data Stewardship at the University of Pittsburgh\")"
   ]
  },
  {
   "cell_type": "code",
   "execution_count": null,
   "metadata": {},
   "outputs": [],
   "source": [
    "re.findall(\"[IDC]\", \"LIS 2030 is offered by the Department of Information Culture and Data Stewardship at the University of Pittsburgh\")"
   ]
  },
  {
   "cell_type": "code",
   "execution_count": null,
   "metadata": {},
   "outputs": [],
   "source": [
    "re.findall(\"[DIC]\", \"LIS 2030 is offered by the Department of Information Culture and Data Stewardship at the University of Pittsburgh\")"
   ]
  },
  {
   "cell_type": "markdown",
   "metadata": {},
   "source": [
    "**notice how the ordering of the characters in the \\[\\] can be in an differnt order**"
   ]
  },
  {
   "cell_type": "markdown",
   "metadata": {},
   "source": [
    "Now let's try to do something a little more complicated... rather than search for just \"LIS 2030\" which we could already do with string matching from previous lectures, can we create a regular expression that searches for three uppercase letters follwed by four numbers?"
   ]
  },
  {
   "cell_type": "code",
   "execution_count": null,
   "metadata": {},
   "outputs": [],
   "source": [
    "re.findall(\"[A-Z]{3} [0-9]{4}\", \"LIS 2030 is offered by the Department of Information Culture and Data Stewardship at the University of Pittsburgh\")"
   ]
  },
  {
   "cell_type": "markdown",
   "metadata": {},
   "source": [
    "What about finding the list of capitialized letters?"
   ]
  },
  {
   "cell_type": "code",
   "execution_count": null,
   "metadata": {},
   "outputs": [],
   "source": [
    "re.findall(\"[A-Z][a-z]*\", \"LIS 2030 is offered by the Department of Information Culture and Data Stewardship at the University of Pittsburgh\")"
   ]
  },
  {
   "cell_type": "markdown",
   "metadata": {},
   "source": [
    "Wait wait wait!!  That's not right... what can we do?"
   ]
  },
  {
   "cell_type": "code",
   "execution_count": null,
   "metadata": {},
   "outputs": [],
   "source": [
    "re.findall(\"[A-Z][a-z]+\", \"LIS 2030 is offered by the Department of Information Culture and Data Stewardship at the University of Pittsburgh\")"
   ]
  },
  {
   "cell_type": "code",
   "execution_count": null,
   "metadata": {},
   "outputs": [],
   "source": []
  },
  {
   "cell_type": "code",
   "execution_count": null,
   "metadata": {},
   "outputs": [],
   "source": [
    "someStr = '''\n",
    "There many endings or an email address.  They can end in .com, .edu, .gov and many many more.  \n",
    "Some examples of an actual email address is biehl@pitt.edu, president@whitehouse.gov, bill@microsoft.com\n",
    "'''"
   ]
  },
  {
   "cell_type": "code",
   "execution_count": null,
   "metadata": {},
   "outputs": [],
   "source": [
    "re.findall(\"[a-zA-Z]+@[a-zA-Z]+\\.[(com|edu|gov)]*\", someStr)"
   ]
  },
  {
   "cell_type": "markdown",
   "metadata": {},
   "source": [
    "Another way to search for this, if we are not concerned about the specific .*whatever* is with word boundries or the \\\\b"
   ]
  },
  {
   "cell_type": "code",
   "execution_count": null,
   "metadata": {},
   "outputs": [],
   "source": [
    "re.findall(\"\\\\b[a-zA-Z]+@[a-zA-Z]+\\.[a-zA-Z0-9]*\\\\b\", someStr)"
   ]
  },
  {
   "cell_type": "code",
   "execution_count": null,
   "metadata": {},
   "outputs": [],
   "source": [
    "someOtherStr = '''\n",
    "There many endings or an email address.  They can end in .com, .edu, .gov and many many more.  \n",
    "Some examples of an actual email address is biehl@pitt.edu, president@whitehouse.gov, bill@microsoft.com or and sheldon@caltech.bazinga\n",
    "'''"
   ]
  },
  {
   "cell_type": "code",
   "execution_count": null,
   "metadata": {},
   "outputs": [],
   "source": [
    "re.findall(\"\\\\b[a-zA-Z]+@[a-zA-Z]+\\.[a-zA-Z0-9]*\\\\b\", someOtherStr)"
   ]
  },
  {
   "cell_type": "markdown",
   "metadata": {},
   "source": [
    "## Let's now go through an example of exclusion..."
   ]
  },
  {
   "cell_type": "code",
   "execution_count": null,
   "metadata": {},
   "outputs": [],
   "source": [
    "re.findall(\"(?<=biehl@)[a-zA-Z]+\\.[(com|edu|gov)]*\", someStr)"
   ]
  },
  {
   "cell_type": "markdown",
   "metadata": {},
   "source": [
    "These are called look arounds:\n",
    "\n",
    "\n",
    "| syntax | name | what it does |\n",
    "| --- | --- | --- |\n",
    "| (?=foo) | Lookahead | Asserts that what immediately follows the current position in the string is foo |\n",
    "| (?<=foo) | Lookbehind | Asserts that what immediately precedes the current position in the string is foo |\n",
    "| (?!foo) | Negative Lookahead | Asserts that what immediately follows the current position in the string is not foo |\n",
    "| (?<!foo) | Negative Lookbehind | Asserts that what immediately precedes the current position in the string is not foo |"
   ]
  },
  {
   "cell_type": "markdown",
   "metadata": {},
   "source": [
    "## Some more RegEx sugar\n",
    "\n",
    "### Anchors\n",
    " - Constrain the position(s) at which a pattern may match\n",
    " - Think of them as “extra” alphabet symbols, though they actually match ε (the zero-length string):\n",
    " - /^a/ Pattern must match at beginning of string\n",
    " -  /a\\$/ Pattern must match at end of string\n",
    " \n"
   ]
  },
  {
   "cell_type": "markdown",
   "metadata": {},
   "source": [
    "### Escapes\n",
    "A backslash \"\\\" placed before a character is said to escape (or quote) the character. There are sixclasses of escapes:\n",
    " - Numeric character representation: the octal or hexadecimal position in a character set: \"\\012\" = \"\\xA\"\n",
    " - Meta-characters: The characters which are syntactically meaningful to regular expressions, and therefore must be escaped in order to represent themselves in the alphabet of the regular expression: “[](){}|^$.?+*\\” (note the inclusion of the backslash).\n",
    " - \"Special\" escapes (from the C language): \n",
    "     - newline: “\\n” = “\\xA” carriage return: “\\r” = “\\xD” \n",
    "     - tab: “\\t” = “\\x9” formfeed: “\\f” = “\\xC” \n",
    " - Aliases: shortcuts for commonly used character classes. \n",
    "    - whitespace: “\\s” = “[ \\t\\r\\n\\f\\v]”\n",
    "    - digit: “\\d” = “[0-9]”\n",
    "    - word: “\\w” = “[a-zA-Z0-9_]”\n",
    "    - non-whitespace: “\\S” = “[^ \\t\\r\\n\\f]”\n",
    "    - non-digit: “\\D” = “[^0-9]”\n",
    "    - non-word: “\\W” = “[^a-zA-Z0-9_]”\n",
    " - Memory/registers/back-references: “\\1”, “\\2”, etc.\n",
    " - Self-escapes: any character other than those which have special meaning can be escaped, but the escaping has no effect: the character still represents the regular language of the character itself."
   ]
  },
  {
   "cell_type": "markdown",
   "metadata": {},
   "source": [
    "## Greediness"
   ]
  },
  {
   "cell_type": "markdown",
   "metadata": {},
   "source": [
    "Regular expression counters/quantifiers which allow for a regular language to match a variable number of times (i.e., the  star, the plus, “?”, “{min,max}”, and “{min,}”) are inherently greedy:\n",
    "- When they are applied, they will match as many times as possible, up to max times in the case of “{min,max}”, at most once in the “?” case, and infinitely many times in the other cases.\n",
    "- Each of these quantifiers may be applied non-greedily, by placing a question mark after it. Non-greedy quantifiers will at first match the minimum number of times."
   ]
  },
  {
   "cell_type": "markdown",
   "metadata": {},
   "source": [
    "Let's see an example of this:"
   ]
  },
  {
   "cell_type": "code",
   "execution_count": null,
   "metadata": {},
   "outputs": [],
   "source": [
    "re.search(\"\\\\w+.*\", \"LIS 2030 is offered by the Department of Information Culture and Data Stewardship at the University of Pittsburgh\")"
   ]
  },
  {
   "cell_type": "code",
   "execution_count": null,
   "metadata": {},
   "outputs": [],
   "source": [
    "re.search(\"\\\\w+.*?\", \"LIS 2030 is offered by the Department of Information Culture and Data Stewardship at the University of Pittsburgh\")"
   ]
  },
  {
   "cell_type": "markdown",
   "metadata": {},
   "source": [
    "## Substitution\n",
    "\n",
    "Python allows regualr expressions to be used for subtititution."
   ]
  },
  {
   "cell_type": "code",
   "execution_count": null,
   "metadata": {},
   "outputs": [],
   "source": [
    "re.sub(\"[0-9]{4}\", \"5000\", \"LIS 2030 is offered by the Department of Information Culture and Data Stewardship at the University of Pittsburgh\")"
   ]
  },
  {
   "cell_type": "code",
   "execution_count": null,
   "metadata": {},
   "outputs": [],
   "source": [
    "re.sub(\"[A-Z][a-z]+\", \"XXX\", \"LIS 2030 is offered by the Department of Information Culture and Data Stewardship at the University of Pittsburgh\")"
   ]
  },
  {
   "cell_type": "code",
   "execution_count": null,
   "metadata": {},
   "outputs": [],
   "source": []
  }
 ],
 "metadata": {
  "kernelspec": {
   "display_name": "Python 3",
   "language": "python",
   "name": "python3"
  },
  "language_info": {
   "codemirror_mode": {
    "name": "ipython",
    "version": 3
   },
   "file_extension": ".py",
   "mimetype": "text/x-python",
   "name": "python",
   "nbconvert_exporter": "python",
   "pygments_lexer": "ipython3",
   "version": "3.8.5"
  }
 },
 "nbformat": 4,
 "nbformat_minor": 4
}
